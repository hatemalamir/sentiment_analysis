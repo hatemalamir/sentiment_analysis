{
 "cells": [
  {
   "cell_type": "code",
   "execution_count": 50,
   "metadata": {
    "tags": []
   },
   "outputs": [],
   "source": [
    "# !pip install trax\n",
    "import os\n",
    "import re\n",
    "import shutil\n",
    "import random\n",
    "from collections import Counter, defaultdict\n",
    "import matplotlib.pyplot as plt\n",
    "import pandas as pd\n",
    "from bs4 import BeautifulSoup\n",
    "from sklearn.decomposition import PCA\n",
    "import nltk\n",
    "from nltk.corpus import stopwords\n",
    "from nltk.tokenize import sent_tokenize\n",
    "import trax.fastmath.numpy as np\n",
    "from trax import layers as tl\n",
    "from trax import optimizers\n",
    "from trax.supervised import training\n",
    "\n",
    "%matplotlib inline"
   ]
  },
  {
   "cell_type": "code",
   "execution_count": null,
   "metadata": {},
   "outputs": [],
   "source": []
  },
  {
   "cell_type": "code",
   "execution_count": 2,
   "metadata": {
    "tags": []
   },
   "outputs": [
    {
     "name": "stderr",
     "output_type": "stream",
     "text": [
      "[nltk_data] Downloading package punkt to /home/atom/nltk_data...\n",
      "[nltk_data]   Package punkt is already up-to-date!\n"
     ]
    }
   ],
   "source": [
    "nltk.download('punkt')\n",
    "STOPWORDS = stopwords.words('english')"
   ]
  },
  {
   "cell_type": "code",
   "execution_count": 3,
   "metadata": {
    "tags": []
   },
   "outputs": [
    {
     "name": "stdout",
     "output_type": "stream",
     "text": [
      ">>> Training set size 25000\n",
      ">>> Sample\n"
     ]
    },
    {
     "data": {
      "text/html": [
       "<div>\n",
       "<style scoped>\n",
       "    .dataframe tbody tr th:only-of-type {\n",
       "        vertical-align: middle;\n",
       "    }\n",
       "\n",
       "    .dataframe tbody tr th {\n",
       "        vertical-align: top;\n",
       "    }\n",
       "\n",
       "    .dataframe thead th {\n",
       "        text-align: right;\n",
       "    }\n",
       "</style>\n",
       "<table border=\"1\" class=\"dataframe\">\n",
       "  <thead>\n",
       "    <tr style=\"text-align: right;\">\n",
       "      <th></th>\n",
       "      <th>id</th>\n",
       "      <th>sentiment</th>\n",
       "      <th>review</th>\n",
       "    </tr>\n",
       "  </thead>\n",
       "  <tbody>\n",
       "    <tr>\n",
       "      <th>4343</th>\n",
       "      <td>\"11596_3\"</td>\n",
       "      <td>0</td>\n",
       "      <td>\"\\\"The Dream Child\\\" of 1989 is the fifth film...</td>\n",
       "    </tr>\n",
       "    <tr>\n",
       "      <th>8396</th>\n",
       "      <td>\"9927_9\"</td>\n",
       "      <td>1</td>\n",
       "      <td>\"Domino is a great movie. It's about a young w...</td>\n",
       "    </tr>\n",
       "    <tr>\n",
       "      <th>494</th>\n",
       "      <td>\"9907_4\"</td>\n",
       "      <td>0</td>\n",
       "      <td>\"DVD has become the equivalent of the old late...</td>\n",
       "    </tr>\n",
       "    <tr>\n",
       "      <th>9971</th>\n",
       "      <td>\"8323_3\"</td>\n",
       "      <td>0</td>\n",
       "      <td>\"From the beginning this movie did have a few ...</td>\n",
       "    </tr>\n",
       "    <tr>\n",
       "      <th>23047</th>\n",
       "      <td>\"10260_1\"</td>\n",
       "      <td>0</td>\n",
       "      <td>\"This movie was terrible!I rented it not knowi...</td>\n",
       "    </tr>\n",
       "    <tr>\n",
       "      <th>8488</th>\n",
       "      <td>\"2687_1\"</td>\n",
       "      <td>0</td>\n",
       "      <td>\"Eleven \\\"great\\\" filmmakers, eleven pieces of...</td>\n",
       "    </tr>\n",
       "    <tr>\n",
       "      <th>9314</th>\n",
       "      <td>\"10867_7\"</td>\n",
       "      <td>1</td>\n",
       "      <td>\"I spotted in the guide to films list for the ...</td>\n",
       "    </tr>\n",
       "    <tr>\n",
       "      <th>17010</th>\n",
       "      <td>\"7817_10\"</td>\n",
       "      <td>1</td>\n",
       "      <td>\"What a brilliant film. I will admit it is ver...</td>\n",
       "    </tr>\n",
       "    <tr>\n",
       "      <th>233</th>\n",
       "      <td>\"9277_1\"</td>\n",
       "      <td>0</td>\n",
       "      <td>\"I saw the omen when i was 11 on tv. I enjoyed...</td>\n",
       "    </tr>\n",
       "    <tr>\n",
       "      <th>6907</th>\n",
       "      <td>\"2522_4\"</td>\n",
       "      <td>0</td>\n",
       "      <td>\"What an awful movie! The Idea of robots fight...</td>\n",
       "    </tr>\n",
       "  </tbody>\n",
       "</table>\n",
       "</div>"
      ],
      "text/plain": [
       "              id  sentiment                                             review\n",
       "4343   \"11596_3\"          0  \"\\\"The Dream Child\\\" of 1989 is the fifth film...\n",
       "8396    \"9927_9\"          1  \"Domino is a great movie. It's about a young w...\n",
       "494     \"9907_4\"          0  \"DVD has become the equivalent of the old late...\n",
       "9971    \"8323_3\"          0  \"From the beginning this movie did have a few ...\n",
       "23047  \"10260_1\"          0  \"This movie was terrible!I rented it not knowi...\n",
       "8488    \"2687_1\"          0  \"Eleven \\\"great\\\" filmmakers, eleven pieces of...\n",
       "9314   \"10867_7\"          1  \"I spotted in the guide to films list for the ...\n",
       "17010  \"7817_10\"          1  \"What a brilliant film. I will admit it is ver...\n",
       "233     \"9277_1\"          0  \"I saw the omen when i was 11 on tv. I enjoyed...\n",
       "6907    \"2522_4\"          0  \"What an awful movie! The Idea of robots fight..."
      ]
     },
     "execution_count": 3,
     "metadata": {},
     "output_type": "execute_result"
    }
   ],
   "source": [
    "train = pd.read_csv('../input/word2vec-nlp-tutorial/labeledTrainData.tsv.zip', header=0, delimiter='\\t', quoting=3)\n",
    "print(f'>>> Training set size {train.shape[0]}')\n",
    "print('>>> Sample')\n",
    "train.sample(10)"
   ]
  },
  {
   "cell_type": "code",
   "execution_count": 4,
   "metadata": {
    "tags": []
   },
   "outputs": [
    {
     "name": "stdout",
     "output_type": "stream",
     "text": [
      ">>> Index: 8310, Id: \"2096_3\"\n",
      "\n",
      ">>> Sentiment: 0\n",
      "\n",
      ">>> Review: \"As a huge fan of only the first 2 seasons of BSG and the stand alone feature BSG Razor I was hoping that this release would return the franchise to its original glory days. Usually I have no problem with science fiction that is mostly dialog driven as opposed to a visual bonanza of special effects. If the script is tight with some original ideas delivered by good actors one can create a profound film with little CGI money spent. This prequel has none of those aforementioned requirements going for it. The virtual reality world created by the terrorist teenagers was both ridiculous & unbelievable. This scene was simply put there to raise the release rating to Restricted. Not that teens don't love virtual reality mosh pits filled with sex & violence & heavy dance music. Its the part about those same teens having the intellectual depth & reason or political & religious passion as to create such futuristic software or become suicide bombers that perplexes me. These kids are definitely not from this planet. The movie plays out like a soap opera with only the last 10 minutes being slightly interesting. The scene with Eric Stolz giving his cyborg a devine conscienceness via the student firmware upgrade was amusing if not entertaining. But this old concept was far better portrayed & much more believable in the brilliant, classic original \\\"Frankenstein\\\" with Boris Karloff. Caprica rips off its only interesting idea from an old Hollywood horror film. No surprise there! Overall this movie was bland & unoriginal & cheap looking, using recycled CGI of Caprica from BSG. I doubt I'll be watching this space soap when it premieres on the Sci-Fi channel. Unless of course I happen to be suffering from a bad bout of insomnia at which time this show would definitely be the cure. Zzzzzzzz\"\n"
     ]
    }
   ],
   "source": [
    "rand_idx = random.randint(0, train.shape[0])\n",
    "print(f'>>> Index: {rand_idx}, Id: {train.id.iloc[rand_idx]}')\n",
    "print(f'\\n>>> Sentiment: {train.sentiment.iloc[rand_idx]}')\n",
    "rand_ex = train.review.iloc[rand_idx]\n",
    "print(f'\\n>>> Review: {rand_ex}')"
   ]
  },
  {
   "cell_type": "code",
   "execution_count": 5,
   "metadata": {},
   "outputs": [
    {
     "name": "stdout",
     "output_type": "stream",
     "text": [
      ">>> Test set size 25000\n",
      ">>> Sample\n"
     ]
    },
    {
     "data": {
      "text/html": [
       "<div>\n",
       "<style scoped>\n",
       "    .dataframe tbody tr th:only-of-type {\n",
       "        vertical-align: middle;\n",
       "    }\n",
       "\n",
       "    .dataframe tbody tr th {\n",
       "        vertical-align: top;\n",
       "    }\n",
       "\n",
       "    .dataframe thead th {\n",
       "        text-align: right;\n",
       "    }\n",
       "</style>\n",
       "<table border=\"1\" class=\"dataframe\">\n",
       "  <thead>\n",
       "    <tr style=\"text-align: right;\">\n",
       "      <th></th>\n",
       "      <th>id</th>\n",
       "      <th>review</th>\n",
       "    </tr>\n",
       "  </thead>\n",
       "  <tbody>\n",
       "    <tr>\n",
       "      <th>20411</th>\n",
       "      <td>\"7605_2\"</td>\n",
       "      <td>\"This sequel is quite awful to be honest. I'm ...</td>\n",
       "    </tr>\n",
       "    <tr>\n",
       "      <th>4940</th>\n",
       "      <td>\"11437_9\"</td>\n",
       "      <td>\"This is an enjoyable movie. Its very realisti...</td>\n",
       "    </tr>\n",
       "    <tr>\n",
       "      <th>16179</th>\n",
       "      <td>\"12331_4\"</td>\n",
       "      <td>\"What to say about this movie? A married coupl...</td>\n",
       "    </tr>\n",
       "    <tr>\n",
       "      <th>3105</th>\n",
       "      <td>\"1493_10\"</td>\n",
       "      <td>\"This is a wonderful family sitcom. Rowan Atki...</td>\n",
       "    </tr>\n",
       "    <tr>\n",
       "      <th>6827</th>\n",
       "      <td>\"2461_7\"</td>\n",
       "      <td>\"This film easily rivals the emotional strengt...</td>\n",
       "    </tr>\n",
       "    <tr>\n",
       "      <th>15774</th>\n",
       "      <td>\"10908_2\"</td>\n",
       "      <td>\"Another first: this French movie is my introd...</td>\n",
       "    </tr>\n",
       "    <tr>\n",
       "      <th>23547</th>\n",
       "      <td>\"7246_3\"</td>\n",
       "      <td>\"I happened to have seen this movie this morni...</td>\n",
       "    </tr>\n",
       "    <tr>\n",
       "      <th>19430</th>\n",
       "      <td>\"5470_1\"</td>\n",
       "      <td>\"Low budget junk about bloodthirsty cultists i...</td>\n",
       "    </tr>\n",
       "    <tr>\n",
       "      <th>13038</th>\n",
       "      <td>\"2607_1\"</td>\n",
       "      <td>\"Wow. After seeing this film, you will know wh...</td>\n",
       "    </tr>\n",
       "    <tr>\n",
       "      <th>11101</th>\n",
       "      <td>\"10937_8\"</td>\n",
       "      <td>\"This splicing of THE SEARCHERS is one of the ...</td>\n",
       "    </tr>\n",
       "  </tbody>\n",
       "</table>\n",
       "</div>"
      ],
      "text/plain": [
       "              id                                             review\n",
       "20411   \"7605_2\"  \"This sequel is quite awful to be honest. I'm ...\n",
       "4940   \"11437_9\"  \"This is an enjoyable movie. Its very realisti...\n",
       "16179  \"12331_4\"  \"What to say about this movie? A married coupl...\n",
       "3105   \"1493_10\"  \"This is a wonderful family sitcom. Rowan Atki...\n",
       "6827    \"2461_7\"  \"This film easily rivals the emotional strengt...\n",
       "15774  \"10908_2\"  \"Another first: this French movie is my introd...\n",
       "23547   \"7246_3\"  \"I happened to have seen this movie this morni...\n",
       "19430   \"5470_1\"  \"Low budget junk about bloodthirsty cultists i...\n",
       "13038   \"2607_1\"  \"Wow. After seeing this film, you will know wh...\n",
       "11101  \"10937_8\"  \"This splicing of THE SEARCHERS is one of the ..."
      ]
     },
     "execution_count": 5,
     "metadata": {},
     "output_type": "execute_result"
    }
   ],
   "source": [
    "test = pd.read_csv('../input/word2vec-nlp-tutorial/testData.tsv.zip', header=0, delimiter='\\t', quoting=3)\n",
    "print(f'>>> Test set size {test.shape[0]}')\n",
    "print('>>> Sample')\n",
    "test.sample(10)"
   ]
  },
  {
   "cell_type": "code",
   "execution_count": 6,
   "metadata": {},
   "outputs": [
    {
     "name": "stdout",
     "output_type": "stream",
     "text": [
      ">>> Unlabled training set size 50000\n",
      ">>> Sample\n"
     ]
    },
    {
     "data": {
      "text/html": [
       "<div>\n",
       "<style scoped>\n",
       "    .dataframe tbody tr th:only-of-type {\n",
       "        vertical-align: middle;\n",
       "    }\n",
       "\n",
       "    .dataframe tbody tr th {\n",
       "        vertical-align: top;\n",
       "    }\n",
       "\n",
       "    .dataframe thead th {\n",
       "        text-align: right;\n",
       "    }\n",
       "</style>\n",
       "<table border=\"1\" class=\"dataframe\">\n",
       "  <thead>\n",
       "    <tr style=\"text-align: right;\">\n",
       "      <th></th>\n",
       "      <th>id</th>\n",
       "      <th>review</th>\n",
       "    </tr>\n",
       "  </thead>\n",
       "  <tbody>\n",
       "    <tr>\n",
       "      <th>4855</th>\n",
       "      <td>\"39550_0\"</td>\n",
       "      <td>\"Priscilla Lane begins the film as a secretary...</td>\n",
       "    </tr>\n",
       "    <tr>\n",
       "      <th>4348</th>\n",
       "      <td>\"23657_0\"</td>\n",
       "      <td>\"\\\"The Unknown\\\" returns to a theme common in ...</td>\n",
       "    </tr>\n",
       "    <tr>\n",
       "      <th>9877</th>\n",
       "      <td>\"40145_0\"</td>\n",
       "      <td>\"I will admit I didn't pay full attention to e...</td>\n",
       "    </tr>\n",
       "    <tr>\n",
       "      <th>13261</th>\n",
       "      <td>\"11251_0\"</td>\n",
       "      <td>\"There were some in the audience who couldn't ...</td>\n",
       "    </tr>\n",
       "    <tr>\n",
       "      <th>4707</th>\n",
       "      <td>\"23661_0\"</td>\n",
       "      <td>\"The Unknown is a fabulous film; I didn't like...</td>\n",
       "    </tr>\n",
       "    <tr>\n",
       "      <th>9828</th>\n",
       "      <td>\"25394_0\"</td>\n",
       "      <td>\"The first reviews which drew me to watch Keke...</td>\n",
       "    </tr>\n",
       "    <tr>\n",
       "      <th>41797</th>\n",
       "      <td>\"24356_0\"</td>\n",
       "      <td>\"This movie...where to begin. A heavily mustac...</td>\n",
       "    </tr>\n",
       "    <tr>\n",
       "      <th>17915</th>\n",
       "      <td>\"20809_0\"</td>\n",
       "      <td>\"This movies story line is all over the map, t...</td>\n",
       "    </tr>\n",
       "    <tr>\n",
       "      <th>16265</th>\n",
       "      <td>\"1924_0\"</td>\n",
       "      <td>\"&lt;br /&gt;&lt;br /&gt;Garbage.The word fits this film t...</td>\n",
       "    </tr>\n",
       "    <tr>\n",
       "      <th>41334</th>\n",
       "      <td>\"3617_0\"</td>\n",
       "      <td>\"This crime-time travel movie was interesting ...</td>\n",
       "    </tr>\n",
       "  </tbody>\n",
       "</table>\n",
       "</div>"
      ],
      "text/plain": [
       "              id                                             review\n",
       "4855   \"39550_0\"  \"Priscilla Lane begins the film as a secretary...\n",
       "4348   \"23657_0\"  \"\\\"The Unknown\\\" returns to a theme common in ...\n",
       "9877   \"40145_0\"  \"I will admit I didn't pay full attention to e...\n",
       "13261  \"11251_0\"  \"There were some in the audience who couldn't ...\n",
       "4707   \"23661_0\"  \"The Unknown is a fabulous film; I didn't like...\n",
       "9828   \"25394_0\"  \"The first reviews which drew me to watch Keke...\n",
       "41797  \"24356_0\"  \"This movie...where to begin. A heavily mustac...\n",
       "17915  \"20809_0\"  \"This movies story line is all over the map, t...\n",
       "16265   \"1924_0\"  \"<br /><br />Garbage.The word fits this film t...\n",
       "41334   \"3617_0\"  \"This crime-time travel movie was interesting ..."
      ]
     },
     "execution_count": 6,
     "metadata": {},
     "output_type": "execute_result"
    }
   ],
   "source": [
    "unlabled_train = pd.read_csv('../input/word2vec-nlp-tutorial/unlabeledTrainData.tsv.zip', header=0, delimiter='\\t', quoting=3)\n",
    "print(f'>>> Unlabled training set size {unlabled_train.shape[0]}')\n",
    "print('>>> Sample')\n",
    "unlabled_train.sample(10)"
   ]
  },
  {
   "cell_type": "markdown",
   "metadata": {},
   "source": [
    "### Preparing the inputs and outputs"
   ]
  },
  {
   "cell_type": "code",
   "execution_count": 7,
   "metadata": {},
   "outputs": [
    {
     "name": "stderr",
     "output_type": "stream",
     "text": [
      "<>:7: DeprecationWarning: invalid escape sequence '\\s'\n"
     ]
    }
   ],
   "source": [
    "def sentence_to_words(sentence, all_words=None, remove_stopwords=False, remove_numbers=False, replace_numbers=None):\n",
    "    sentence_text = BeautifulSoup(sentence).get_text()\n",
    "    sentence_text = re.sub('[^a-zA-Z1-9]', ' ', sentence_text)\n",
    "    if remove_numbers:\n",
    "        sentence_text = re.sub('[1-9]', ' ', sentence_text)\n",
    "    elif replace_numbers:\n",
    "        sentence_text = re.sub('\\s\\d+[\\.*\\d+]*', f' {replace_numbers} ', sentence_text)\n",
    "    words = sentence_text.lower().split()\n",
    "    if remove_stopwords:\n",
    "        words = [w.lower() for w in words if w not in STOPWORDS]\n",
    "    if all_words is not None:\n",
    "        all_words += words\n",
    "    return words"
   ]
  },
  {
   "cell_type": "code",
   "execution_count": 8,
   "metadata": {},
   "outputs": [],
   "source": [
    "def review_to_sentences(review, tokenizer, all_sentences=None, all_words=None, remove_stopwords=False, remove_numbers=False, replace_numbers=None):\n",
    "    raw_sentences = tokenizer(review.strip())\n",
    "    sentences = []\n",
    "    for sentence in raw_sentences:\n",
    "        if len(sentence):\n",
    "            words = sentence_to_words(sentence, all_words, remove_stopwords, remove_numbers, replace_numbers)\n",
    "            if all_sentences is not None:\n",
    "                all_sentences.append(words)\n",
    "            sentences.append(words)\n",
    "    return sentences"
   ]
  },
  {
   "cell_type": "code",
   "execution_count": 9,
   "metadata": {},
   "outputs": [
    {
     "name": "stderr",
     "output_type": "stream",
     "text": [
      "/home/atom/work/nlp/nlpenv/lib/python3.10/site-packages/bs4/__init__.py:435: MarkupResemblesLocatorWarning: The input looks more like a filename than markup. You may want to open this file and pass the filehandle into Beautiful Soup.\n",
      "  warnings.warn(\n",
      "/home/atom/work/nlp/nlpenv/lib/python3.10/site-packages/bs4/__init__.py:404: MarkupResemblesLocatorWarning: The input looks more like a URL than markup. You may want to use an HTTP client like requests to get the document behind the URL, and feed that document to Beautiful Soup.\n",
      "  warnings.warn(\n"
     ]
    }
   ],
   "source": [
    "all_words = []\n",
    "all_sentences = []\n",
    "_ = train.review.apply(review_to_sentences, args=(sent_tokenize, all_sentences, all_words, True, False, 'NUM'))\n",
    "_ = unlabled_train.review.apply(review_to_sentences, args=(sent_tokenize, all_sentences, all_words, True, False, 'NUM'))"
   ]
  },
  {
   "cell_type": "code",
   "execution_count": 10,
   "metadata": {},
   "outputs": [
    {
     "data": {
      "text/plain": [
       "[('movie', 132190),\n",
       " ('film', 121219),\n",
       " ('num', 113949),\n",
       " ('one', 81321),\n",
       " ('like', 60975),\n",
       " ('good', 44865),\n",
       " ('time', 37836),\n",
       " ('even', 37491),\n",
       " ('would', 37105),\n",
       " ('story', 35564),\n",
       " ('really', 34923),\n",
       " ('see', 34646),\n",
       " ('well', 32016),\n",
       " ('much', 29157),\n",
       " ('bad', 28358),\n",
       " ('get', 27918),\n",
       " ('people', 27877),\n",
       " ('also', 27505),\n",
       " ('great', 27441),\n",
       " ('first', 27137)]"
      ]
     },
     "execution_count": 10,
     "metadata": {},
     "output_type": "execute_result"
    }
   ],
   "source": [
    "fdist = nltk.FreqDist(word for word in all_words)\n",
    "fdist.most_common(20)"
   ]
  },
  {
   "cell_type": "code",
   "execution_count": 11,
   "metadata": {},
   "outputs": [
    {
     "name": "stdout",
     "output_type": "stream",
     "text": [
      ">>> Total of 124149 words counted\n",
      ">>> Selected 16348 words appeared that appeared in 40 reviews or more\n"
     ]
    }
   ],
   "source": [
    "# Since each movie occurs 30 times, we set the minimum word count to 40, to avoid attaching too much importance to individual movie titles\n",
    "print(f'>>> Total of {len(fdist)} words counted')\n",
    "useful_fdist = {w: c for w, c in fdist.items() if c >= 40}\n",
    "print(f'>>> Selected {len(useful_fdist)} words appeared that appeared in 40 reviews or more')"
   ]
  },
  {
   "cell_type": "code",
   "execution_count": 12,
   "metadata": {},
   "outputs": [],
   "source": [
    "# Preparing tokens to be fed to the model.\n",
    "# For continuous skip-gram\n",
    "#  Input: a one-hot-encoded center word.\n",
    "#  Output: I don't know for sure. From reading the word2vec paper and the CBOW implementation, it's an average of the one-hot-encoded context words.\n",
    "word2idx = {}\n",
    "idx2word = {}\n",
    "for idx, word in enumerate(useful_fdist.keys()):\n",
    "    word2idx[word] = idx\n",
    "    idx2word[idx] = word\n",
    "word2idx['oov'] = len(word2idx)\n",
    "idx2word[len(idx2word)] = 'oov'"
   ]
  },
  {
   "cell_type": "code",
   "execution_count": 13,
   "metadata": {},
   "outputs": [],
   "source": [
    "def get_idx(words, word2Ind):\n",
    "    idx = []\n",
    "    for word in words:\n",
    "        idx = idx + [word2Ind.get(word, word2Ind['oov'])]\n",
    "    return idx\n",
    "\n",
    "\n",
    "def pack_idx_with_frequency(context_words, word2Ind):\n",
    "    freq_dict = defaultdict(int)\n",
    "    for word in context_words:\n",
    "        freq_dict[word] += 1\n",
    "    idxs = get_idx(context_words, word2Ind)\n",
    "    packed = []\n",
    "    for i in range(len(idxs)):\n",
    "        idx = idxs[i]\n",
    "        freq = freq_dict[context_words[i]]\n",
    "        packed.append((idx, freq))\n",
    "    return packed\n",
    "\n",
    "\n",
    "def get_vectors(sentence, word2Ind, V, C):\n",
    "    for i in range(0, len(sentence)):\n",
    "        center_word = sentence[i]\n",
    "        y = word2Ind.get(center_word, word2Ind['oov'])\n",
    "        x = [0] * V\n",
    "        context_words = sentence[max(0, i - C) : i] + sentence[min(len(sentence) - 1, i + 1) : min(len(sentence) - 1, i + C + 1)]\n",
    "        num_ctx_words = len(context_words)\n",
    "        for idx, freq in pack_idx_with_frequency(context_words, word2Ind):\n",
    "            x[idx] = freq / num_ctx_words\n",
    "        yield x, y\n",
    "\n",
    "\n",
    "def get_batches(sentences, word2Ind, V, C, batch_size):\n",
    "    batch_x = []\n",
    "    batch_y = []\n",
    "    example_weights = [1] * batch_size\n",
    "    \n",
    "    for sentence in sentences:\n",
    "        for x, y in get_vectors(sentence, word2Ind, V, C):\n",
    "            if len(batch_x) < batch_size:\n",
    "                batch_x.append(x)\n",
    "                batch_y.append(y)\n",
    "            else:\n",
    "                yield np.array(batch_x), np.array(batch_y), np.array(example_weights)\n",
    "                batch_x = []\n",
    "                batch_y = []\n",
    "                \n",
    "    if len(batch_x):\n",
    "        yield np.array(batch_x), np.array(batch_y), np.array(example_weights)\n",
    "        "
   ]
  },
  {
   "cell_type": "markdown",
   "metadata": {},
   "source": [
    "### Building the model"
   ]
  },
  {
   "cell_type": "code",
   "execution_count": 14,
   "metadata": {},
   "outputs": [],
   "source": [
    "# Building the model\n",
    "def word2vec(word_vec_size, vocab_size):\n",
    "    return tl.Serial(\n",
    "        tl.Dense(word_vec_size),\n",
    "        tl.Dense(vocab_size),\n",
    "    )"
   ]
  },
  {
   "cell_type": "markdown",
   "metadata": {},
   "source": [
    "### Training the model"
   ]
  },
  {
   "cell_type": "code",
   "execution_count": 15,
   "metadata": {},
   "outputs": [],
   "source": [
    "# Empty the model directory, otherwise old checkpoints might fail to load and training would fail\n",
    "MODEL_DIR = '../output'\n",
    "def del_old_model(model_dir):\n",
    "    for filename in os.listdir(model_dir):\n",
    "        file_path = os.path.join(model_dir, filename)\n",
    "        try:\n",
    "            if os.path.isfile(file_path) or os.path.islink(file_path):\n",
    "                os.unlink(file_path)\n",
    "            elif os.path.isdir(file_path):\n",
    "                shutil.rmtree(file_path)\n",
    "        except Exception as e:\n",
    "            print('Failed to delete %s. Reason: %s' % (file_path, e))\n",
    "del_old_model(MODEL_DIR)"
   ]
  },
  {
   "cell_type": "code",
   "execution_count": 16,
   "metadata": {},
   "outputs": [
    {
     "name": "stderr",
     "output_type": "stream",
     "text": [
      "WARNING:absl:No GPU/TPU found, falling back to CPU. (Set TF_CPP_MIN_LOG_LEVEL=0 and rerun for more info.)\n",
      "/home/atom/work/nlp/nlpenv/lib/python3.10/site-packages/jax/_src/lib/xla_bridge.py:545: UserWarning: jax.host_count has been renamed to jax.process_count. This alias will eventually be removed; please update your code.\n",
      "  warnings.warn(\n"
     ]
    }
   ],
   "source": [
    "CUT_IDX = int(len(all_sentences) * 0.9)\n",
    "train_task = training.TrainTask(\n",
    "    labeled_data=get_batches(\n",
    "        sentences=all_sentences[:CUT_IDX],\n",
    "        word2Ind=word2idx,\n",
    "        V=len(word2idx),\n",
    "        C=5,\n",
    "        batch_size=32,  \n",
    "    ),\n",
    "    loss_layer=tl.WeightedCategoryCrossEntropy(),\n",
    "    optimizer=optimizers.Adam(0.001),\n",
    "    n_steps_per_checkpoint=10,\n",
    ")\n",
    "\n",
    "eval_task = training.EvalTask(\n",
    "    labeled_data=get_batches(\n",
    "        sentences=all_sentences[CUT_IDX:],\n",
    "        word2Ind=word2idx,\n",
    "        V=len(word2idx),\n",
    "        C=5,\n",
    "        batch_size=32,  \n",
    "    ),\n",
    "    metrics=[\n",
    "        tl.WeightedCategoryCrossEntropy(),\n",
    "    ]\n",
    ")\n",
    "\n",
    "training_loop = training.Loop(\n",
    "    model=word2vec(\n",
    "        word_vec_size=300,\n",
    "        vocab_size=len(word2idx)\n",
    "    ),\n",
    "    tasks=train_task,\n",
    "    eval_tasks=eval_task,\n",
    "    output_dir='../output',\n",
    ")"
   ]
  },
  {
   "cell_type": "code",
   "execution_count": 18,
   "metadata": {},
   "outputs": [
    {
     "name": "stdout",
     "output_type": "stream",
     "text": [
      "\n",
      "Step    210: Ran 10 train steps in 31.09 secs\n",
      "Step    210: train WeightedCategoryCrossEntropy |  8.40674210\n",
      "Step    210: eval  WeightedCategoryCrossEntropy |  8.47289467\n",
      "\n",
      "Step    220: Ran 10 train steps in 30.11 secs\n",
      "Step    220: train WeightedCategoryCrossEntropy |  8.24342918\n",
      "Step    220: eval  WeightedCategoryCrossEntropy |  8.46977329\n",
      "\n",
      "Step    230: Ran 10 train steps in 29.77 secs\n",
      "Step    230: train WeightedCategoryCrossEntropy |  8.29256821\n",
      "Step    230: eval  WeightedCategoryCrossEntropy |  7.48742247\n",
      "\n",
      "Step    240: Ran 10 train steps in 35.57 secs\n",
      "Step    240: train WeightedCategoryCrossEntropy |  8.18574715\n",
      "Step    240: eval  WeightedCategoryCrossEntropy |  8.07074642\n",
      "\n",
      "Step    250: Ran 10 train steps in 30.21 secs\n",
      "Step    250: train WeightedCategoryCrossEntropy |  8.22184181\n",
      "Step    250: eval  WeightedCategoryCrossEntropy |  8.49355316\n",
      "\n",
      "Step    260: Ran 10 train steps in 31.89 secs\n",
      "Step    260: train WeightedCategoryCrossEntropy |  8.07393360\n",
      "Step    260: eval  WeightedCategoryCrossEntropy |  8.19324589\n",
      "\n",
      "Step    270: Ran 10 train steps in 30.36 secs\n",
      "Step    270: train WeightedCategoryCrossEntropy |  7.80194330\n",
      "Step    270: eval  WeightedCategoryCrossEntropy |  7.57380056\n",
      "\n",
      "Step    280: Ran 10 train steps in 29.08 secs\n",
      "Step    280: train WeightedCategoryCrossEntropy |  8.26190758\n",
      "Step    280: eval  WeightedCategoryCrossEntropy |  8.36640930\n",
      "\n",
      "Step    290: Ran 10 train steps in 30.29 secs\n",
      "Step    290: train WeightedCategoryCrossEntropy |  7.96822500\n",
      "Step    290: eval  WeightedCategoryCrossEntropy |  8.61161232\n",
      "\n",
      "Step    300: Ran 10 train steps in 30.77 secs\n",
      "Step    300: train WeightedCategoryCrossEntropy |  7.99430227\n",
      "Step    300: eval  WeightedCategoryCrossEntropy |  7.56588268\n"
     ]
    }
   ],
   "source": [
    "training_loop.run(n_steps=100)"
   ]
  },
  {
   "cell_type": "code",
   "execution_count": 39,
   "metadata": {},
   "outputs": [],
   "source": [
    "embeds = (training_loop.model.sublayers[0].weights[0] + training_loop.model.sublayers[1].weights[0].T)"
   ]
  },
  {
   "cell_type": "code",
   "execution_count": 43,
   "metadata": {},
   "outputs": [],
   "source": [
    "embeds_pcs = PCA(n_components=2).fit_transform(embeds)"
   ]
  },
  {
   "cell_type": "code",
   "execution_count": 56,
   "metadata": {},
   "outputs": [
    {
     "data": {
      "image/png": "[encoded data removed]",
      "text/plain": [
       "<Figure size 1008x720 with 1 Axes>"
      ]
     },
     "metadata": {
      "needs_background": "light"
     },
     "output_type": "display_data"
    }
   ],
   "source": [
    "plt.figure(figsize=(14, 10))\n",
    "plt.scatter(embeds_pcs[:50, 0], embeds_pcs[:50, 1])\n",
    "for i, word in enumerate(list(word2idx.keys())[:50]):\n",
    "    plt.annotate(word, xy=(embeds_pcs[i, 0], embeds_pcs[i, 1]))\n",
    "plt.show()"
   ]
  },
  {
   "cell_type": "code",
   "execution_count": 57,
   "metadata": {},
   "outputs": [
    {
     "name": "stderr",
     "output_type": "stream",
     "text": [
      "/home/atom/work/nlp/nlpenv/lib/python3.10/site-packages/gensim/matutils.py:22: DeprecationWarning: Please use `triu` from the `scipy.linalg` namespace, the `scipy.linalg.special_matrices` namespace is deprecated.\n",
      "  from scipy.linalg.special_matrices import triu\n"
     ]
    }
   ],
   "source": [
    "from gensim.models import word2vec"
   ]
  },
  {
   "cell_type": "code",
   "execution_count": 59,
   "metadata": {},
   "outputs": [],
   "source": [
    "model_gensim = word2vec.Word2Vec(\n",
    "    sentences=all_sentences,\n",
    "    workers=4, # Number of threads to run in parallel\n",
    "    vector_size=300, # Word vector dimensionality\n",
    "    min_count=40, # Minimum frequency of a word to be added to the vocabulary\n",
    "    window=5, # Maximum distance between the current and predicted word within a sentence\n",
    "    sample=1e-3, # Downsample setting for frequent words\n",
    ")"
   ]
  },
  {
   "cell_type": "code",
   "execution_count": null,
   "metadata": {},
   "outputs": [],
   "source": []
  }
 ],
 "metadata": {
  "kernelspec": {
   "display_name": "Python 3 (ipykernel)",
   "language": "python",
   "name": "python3"
  },
  "language_info": {
   "codemirror_mode": {
    "name": "ipython",
    "version": 3
   },
   "file_extension": ".py",
   "mimetype": "text/x-python",
   "name": "python",
   "nbconvert_exporter": "python",
   "pygments_lexer": "ipython3",
   "version": "3.10.4"
  }
 },
 "nbformat": 4,
 "nbformat_minor": 4
}
